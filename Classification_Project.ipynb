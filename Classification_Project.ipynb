{
  "nbformat": 4,
  "nbformat_minor": 0,
  "metadata": {
    "colab": {
      "name": "Classification Project.ipynb",
      "provenance": [],
      "collapsed_sections": []
    },
    "kernelspec": {
      "name": "python3",
      "display_name": "Python 3"
    },
    "language_info": {
      "name": "python"
    }
  },
  "cells": [
    {
      "cell_type": "markdown",
      "source": [
        "# **Imports**"
      ],
      "metadata": {
        "id": "FjmxH-eIEw7m"
      }
    },
    {
      "cell_type": "code",
      "execution_count": 1,
      "metadata": {
        "id": "LnNOPc11Esx7"
      },
      "outputs": [],
      "source": [
        "import pandas as pd\n",
        "import numpy as np\n",
        "import matplotlib.pyplot as plt\n",
        "import time\n",
        "from sklearn.model_selection import cross_val_score\n",
        "from sklearn.model_selection import train_test_split\n",
        "from sklearn.neighbors import KNeighborsClassifier\n",
        "from sklearn.model_selection import  StratifiedKFold\n",
        "from sklearn.metrics import make_scorer\n",
        "from sklearn.metrics import accuracy_score\n",
        "from sklearn.metrics import precision_score\n",
        "from sklearn.metrics import confusion_matrix"
      ]
    },
    {
      "cell_type": "markdown",
      "source": [
        "# **Final Evaluation of the model**"
      ],
      "metadata": {
        "id": "ejXrk7TIwX1U"
      }
    },
    {
      "cell_type": "code",
      "source": [
        "def knn_model(x_train,y_train,x_test,y_test,k):\n",
        "  #This function applies final evaluation for the model on test set\n",
        "  model = KNeighborsClassifier(n_neighbors=k)\n",
        "  start = time.time()\n",
        "  model.fit(x_train, y_train)\n",
        "  end = time.time()\n",
        "  train_time = end - start\n",
        "  start = time.time()\n",
        "  y_pred = model.predict(x_test)\n",
        "  end = time.time()\n",
        "  prediction_time = end - start\n",
        "  cm = confusion_matrix(y_test, y_pred)\n",
        "  accuracy = accuracy_score(y_pred, y_test)\n",
        "  precision=precision_score(y_pred,y_test,average='macro')\n",
        "  print(\"-----------------------------------------------------\")\n",
        "  print(\"For Optimim k:{}, Final Evaluation Report on test set\".format(k))\n",
        "  print(\"Confusion Matrix: {}\".format(cm))\n",
        "  print(\"Accuracy: {}\".format(accuracy))\n",
        "  print(\"Precision: {}\".format(precision))\n",
        "  print(\"Training Time: {}\".format(train_time))\n",
        "  print(\"Prediction Time: {}\".format(prediction_time))\n",
        "  _, axes = plt.subplots(nrows=1, ncols=4, figsize=(10, 3))\n",
        "  #Visulise the predictions\n",
        "  for ax, image, prediction in zip(axes, x_test, y_pred):\n",
        "    ax.set_axis_off()\n",
        "    image = image.reshape(28, 28)\n",
        "    ax.imshow(image, cmap=plt.cm.gray_r, interpolation=\"nearest\")\n",
        "    ax.set_title(f\"Prediction: {prediction}\")\n",
        "\n",
        "\n",
        "  \n",
        "\n",
        "\n",
        "\n",
        "\n",
        "\n",
        "\n",
        "\n",
        "\n",
        "\n",
        "\n",
        "\n",
        "  "
      ],
      "metadata": {
        "id": "WdAysiRANHH9"
      },
      "execution_count": 2,
      "outputs": []
    },
    {
      "cell_type": "markdown",
      "source": [
        "# **Using Cross_val_score to determine optimim value for Tuning Parameter\"K nearest neighbors\"**"
      ],
      "metadata": {
        "id": "PNrSYjP4E-Qi"
      }
    },
    {
      "cell_type": "code",
      "source": [
        "def tuning_parameter(x_train,y_train):\n",
        "    skf = StratifiedKFold(n_splits=20) #we change number of splits each time to test effect of k-fold\n",
        "    mean_accuracy_per_k = [] #Average Accuracy for each k-neighbor value\n",
        "    mean_precision_per_k = []\n",
        "    print(\"Changing Tuning Parameter'K-neighbors' while using 20 splits fold\")\n",
        "    print(\"-----------------------------------------------------------------\")\n",
        "    k_range = range(1, 15)\n",
        "    #We apply make_scorer to specify extra details on precision calculation\n",
        "    #And to provide it each key-pair one at a time as cross_val_score \n",
        "    #returns only one measure at a time\n",
        "    scoring = {'accuracy': make_scorer(accuracy_score),\n",
        "               'precision': make_scorer(precision_score, average='macro')}\n",
        "#Applying cross_validation to get optimim value for the classifier parameter\n",
        "    for k in k_range:\n",
        "        results = {}\n",
        "        model = KNeighborsClassifier(n_neighbors=k)\n",
        "        for key, value in scoring.items():\n",
        "            scores = cross_val_score(model, x_train, y_train, cv=skf, scoring=value)\n",
        "            results[key] = scores\n",
        "        mean_accuracy_per_k.append(results['accuracy'].mean())\n",
        "        mean_precision_per_k.append(results['precision'].mean())\n",
        "        #Printing the resulted measures for each k-value\n",
        "        print(\"For k={k_value}: Average Precision={prec}  Average Accuracy={accuracy}\".format(k_value=k, accuracy= mean_accuracy_per_k[k - 1], prec=mean_precision_per_k[k - 1]))\n",
        "    plt.title(\"Changing Tuning parameter K in Kneighbors\", fontsize='16')  # title\n",
        "    plt.plot(k_range, mean_accuracy_per_k)  # plot the points\n",
        "    plt.xlabel(\"K-Neigbors\", fontsize='13')  # adds a label in the x axis\n",
        "    plt.ylabel(\"Average Accuracy\", fontsize='13')  # adds a label in the y axis\n",
        "    plt.grid()  # shows a grid under the plot\n",
        "    plt.show()\n",
        "    return mean_accuracy_per_k.index(max(mean_accuracy_per_k))+1\n",
        "#we return best value fpr classifier parameter\n"
      ],
      "metadata": {
        "id": "ulG6Fy9qE9qu"
      },
      "execution_count": 3,
      "outputs": []
    },
    {
      "cell_type": "markdown",
      "source": [
        "# **Main**"
      ],
      "metadata": {
        "id": "jfcdZoTTFbmB"
      }
    },
    {
      "cell_type": "code",
      "source": [
        "data=pd.read_csv(\"https://raw.githubusercontent.com/IEEE-CIS-GHRCE-62361B/MLBootcamp/master/Week3/mnist_digit.csv\")\n",
        "data = np.array(data)\n",
        "x = data[:, 1:] #features\n",
        "y = data[:, 0] #label\n",
        "#visualising dataset\n",
        "for i in range(0, 9):\n",
        "  plt.figure()\n",
        "  plt.imshow(x[i].reshape(28, 28), cmap='gray')\n",
        "  plt.axis(\"off\")\n",
        "  plt.show()\n",
        "\n",
        "x_train, x_test, y_train, y_test = train_test_split(x, y, test_size=0.3)\n",
        "\n",
        "#Task one Run your code with different values of neigbors \n",
        "best_k=tuning_parameter(x_train,y_train) #Best Accuracy for K_neighbors\n",
        "print(best_k)\n",
        "knn_model(x_train,y_train,x_test,y_test,best_k)\n"
      ],
      "metadata": {
        "colab": {
          "base_uri": "https://localhost:8080/",
          "height": 1000
        },
        "id": "JwrC4dbvFbI6",
        "outputId": "cc0c63a7-82f4-42ed-f7a8-c2f504d8ef5e"
      },
      "execution_count": 4,
      "outputs": [
        {
          "output_type": "display_data",
          "data": {
            "image/png": "[encoded data removed]",
            "text/plain": [
              "<Figure size 432x288 with 1 Axes>"
            ]
          },
          "metadata": {
            "needs_background": "light"
          }
        },
        {
          "output_type": "display_data",
          "data": {
            "image/png": "[encoded data removed]",
            "text/plain": [
              "<Figure size 432x288 with 1 Axes>"
            ]
          },
          "metadata": {
            "needs_background": "light"
          }
        },
        {
          "output_type": "display_data",
          "data": {
            "image/png": "[encoded data removed]",
            "text/plain": [
              "<Figure size 432x288 with 1 Axes>"
            ]
          },
          "metadata": {
            "needs_background": "light"
          }
        },
        {
          "output_type": "display_data",
          "data": {
            "image/png": "[encoded data removed]",
            "text/plain": [
              "<Figure size 432x288 with 1 Axes>"
            ]
          },
          "metadata": {
            "needs_background": "light"
          }
        },
        {
          "output_type": "display_data",
          "data": {
            "image/png": "[encoded data removed]",
            "text/plain": [
              "<Figure size 432x288 with 1 Axes>"
            ]
          },
          "metadata": {
            "needs_background": "light"
          }
        },
        {
          "output_type": "display_data",
          "data": {
            "image/png": "[encoded data removed]",
            "text/plain": [
              "<Figure size 432x288 with 1 Axes>"
            ]
          },
          "metadata": {
            "needs_background": "light"
          }
        },
        {
          "output_type": "display_data",
          "data": {
            "image/png": "[encoded data removed]",
            "text/plain": [
              "<Figure size 432x288 with 1 Axes>"
            ]
          },
          "metadata": {
            "needs_background": "light"
          }
        },
        {
          "output_type": "display_data",
          "data": {
            "image/png": "[encoded data removed]",
            "text/plain": [
              "<Figure size 432x288 with 1 Axes>"
            ]
          },
          "metadata": {
            "needs_background": "light"
          }
        },
        {
          "output_type": "display_data",
          "data": {
            "image/png": "[encoded data removed]",
            "text/plain": [
              "<Figure size 432x288 with 1 Axes>"
            ]
          },
          "metadata": {
            "needs_background": "light"
          }
        },
        {
          "output_type": "stream",
          "name": "stdout",
          "text": [
            "Changing Tuning Parameter'K-neighbors' while using 20 splits fold\n",
            "-----------------------------------------------------------------\n",
            "For k=1: Average Precision=0.959358925640859  Average Accuracy=0.9584968322092786\n",
            "For k=2: Average Precision=0.9504721287720171  Average Accuracy=0.9482820355610055\n",
            "For k=3: Average Precision=0.9591002002622258  Average Accuracy=0.9577113222971592\n",
            "For k=4: Average Precision=0.9572210471306578  Average Accuracy=0.9554971387696709\n",
            "For k=5: Average Precision=0.957243123398127  Average Accuracy=0.9555689760882895\n",
            "For k=6: Average Precision=0.9556374893054563  Average Accuracy=0.9534974453300633\n",
            "For k=7: Average Precision=0.954524301058156  Average Accuracy=0.9523542816268138\n",
            "For k=8: Average Precision=0.9533646436799353  Average Accuracy=0.9509255058246474\n",
            "For k=9: Average Precision=0.951820511631786  Average Accuracy=0.9492825464949929\n",
            "For k=10: Average Precision=0.9523674481152777  Average Accuracy=0.9496394849785407\n",
            "For k=11: Average Precision=0.95179215443826  Average Accuracy=0.949068465154302\n",
            "For k=12: Average Precision=0.9497571035387977  Average Accuracy=0.9468537706928265\n",
            "For k=13: Average Precision=0.9482710043210416  Average Accuracy=0.9452110157367668\n",
            "For k=14: Average Precision=0.9479504969163326  Average Accuracy=0.9449253014510528\n"
          ]
        },
        {
          "output_type": "display_data",
          "data": {
            "image/png": "[encoded data removed]",
            "text/plain": [
              "<Figure size 432x288 with 1 Axes>"
            ]
          },
          "metadata": {
            "needs_background": "light"
          }
        },
        {
          "output_type": "stream",
          "name": "stdout",
          "text": [
            "1\n",
            "-----------------------------------------------------\n",
            "For Optimim k:1, Final Evaluation Report on test set\n",
            "Confusion Matrix: [[588   0   0   0   0   2   4   0   0   0]\n",
            " [  0 686   2   1   2   0   0   0   0   0]\n",
            " [  1   7 590   4   2   1   0  11   1   0]\n",
            " [  0   6   8 550   0  12   1   5   8   0]\n",
            " [  0   5   2   0 543   0   1   3   2  31]\n",
            " [  0   0   0   8   1 471   3   3   3   4]\n",
            " [  2   0   0   0   0   2 615   0   1   0]\n",
            " [  0   8   3   0   5   0   0 593   0  11]\n",
            " [  1   6   5   7   7  10   2   2 534  12]\n",
            " [  3   3   1   3   8   0   0  18   1 565]]\n",
            "Accuracy: 0.9558333333333333\n",
            "Precision: 0.9549712304431971\n",
            "Training Time: 0.004250526428222656\n",
            "Prediction Time: 5.346194505691528\n"
          ]
        },
        {
          "output_type": "display_data",
          "data": {
            "image/png": "[encoded data removed]",
            "text/plain": [
              "<Figure size 720x216 with 4 Axes>"
            ]
          },
          "metadata": {
            "needs_background": "light"
          }
        }
      ]
    }
  ]
}